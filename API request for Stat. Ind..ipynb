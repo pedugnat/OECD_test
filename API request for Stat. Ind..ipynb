{
 "cells": [
  {
   "cell_type": "code",
   "execution_count": 70,
   "metadata": {
    "collapsed": true
   },
   "outputs": [],
   "source": [
    "# uncomment if you don't have pandas_datareader installed\n",
    "# ! pip install pandas_datareader"
   ]
  },
  {
   "cell_type": "code",
   "execution_count": 14,
   "metadata": {},
   "outputs": [],
   "source": [
    "# Classic imports\n",
    "import numpy as np\n",
    "import pandas as pd\n",
    "import requests\n",
    "\n",
    "# Specific imports\n",
    "import pandas_datareader as pdr\n",
    "from pandas_datareader import wb"
   ]
  },
  {
   "cell_type": "code",
   "execution_count": 28,
   "metadata": {},
   "outputs": [],
   "source": [
    "# This link proved very useful : \n",
    "# https://pydata.github.io/pandas-datareader/stable/remote_data.html#world-bank"
   ]
  },
  {
   "cell_type": "code",
   "execution_count": 71,
   "metadata": {},
   "outputs": [
    {
     "data": {
      "text/plain": [
       "array([['IQ.SCI.MTHD',\n",
       "        'Methodology assessment of statistical capacity (scale 0 - 100)',\n",
       "        'The methodology indicator measures a country’s ability to adhere to internationally recommended standards and methods. The methodology score is calculated as the weighted average of 10 underlying indicator scores. The final methodology score contributes 1/3 of the overall Statistical Capacity Indicator score.'],\n",
       "       ['IQ.SCI.OVRL', 'Statistical Capacity score (Overall average)',\n",
       "        'The Statistical Capacity Indicator is a composite score assessing the capacity of a country’s statistical system. It is based on a diagnostic framework assessing the following areas: methodology; data sources; and periodicity and timeliness. Countries are scored against 25 criteria in these areas, using publicly available information and/or country input. The overall Statistical Capacity score is then calculated as a simple average of all three area scores on a scale of 0-100.'],\n",
       "       ['IQ.SCI.PRDC',\n",
       "        'Periodicity and timeliness assessment of statistical capacity (scale 0 - 100)',\n",
       "        'The periodicity and timeliness indicator assesses the availability and periodicity of key socioeconomic indicators. It measures the extent to which data are made accessible to users through transformation of source data into timely statistical outputs. The periodicity score is calculated as the weighted average of 10 underlying indicator scores. The final periodicity score contributes 1/3 of the overall Statistical Capacity Indicator score.'],\n",
       "       ['IQ.SCI.SRCE',\n",
       "        'Source data assessment of statistical capacity (scale 0 - 100)',\n",
       "        'The source data indicator reflects whether a country conducts data collection activities in line with internationally recommended periodicity, and whether data from administrative systems are available. The source data score is calculated as the weighted average of 5 underlying indicator scores. The final source data score contributes 1/3 of the overall Statistical Capacity Indicator score.']],\n",
       "      dtype=object)"
      ]
     },
     "execution_count": 71,
     "metadata": {},
     "output_type": "execute_result"
    }
   ],
   "source": [
    "# Search in the available indicators which on matches our search\n",
    "matches = wb.search('Statistical')\n",
    "matches[['id', 'name', 'sourceNote']].values\n",
    "# Seems like the 2nd indicator is the one we are interested in"
   ]
  },
  {
   "cell_type": "code",
   "execution_count": 48,
   "metadata": {},
   "outputs": [],
   "source": [
    "MY_IND = 'IQ.SCI.OVRL'\n",
    "START_YEAR = 2010\n",
    "\n",
    "matches = wb.download(indicator=MY_IND, country='all', start=START_YEAR, end=2019)"
   ]
  },
  {
   "cell_type": "code",
   "execution_count": 72,
   "metadata": {},
   "outputs": [
    {
     "data": {
      "text/html": [
       "<div>\n",
       "<style scoped>\n",
       "    .dataframe tbody tr th:only-of-type {\n",
       "        vertical-align: middle;\n",
       "    }\n",
       "\n",
       "    .dataframe tbody tr th {\n",
       "        vertical-align: top;\n",
       "    }\n",
       "\n",
       "    .dataframe thead th {\n",
       "        text-align: right;\n",
       "    }\n",
       "</style>\n",
       "<table border=\"1\" class=\"dataframe\">\n",
       "  <thead>\n",
       "    <tr style=\"text-align: right;\">\n",
       "      <th></th>\n",
       "      <th>id</th>\n",
       "      <th>name</th>\n",
       "      <th>source</th>\n",
       "      <th>sourceNote</th>\n",
       "      <th>sourceOrganization</th>\n",
       "      <th>topics</th>\n",
       "      <th>unit</th>\n",
       "    </tr>\n",
       "  </thead>\n",
       "  <tbody>\n",
       "    <tr>\n",
       "      <th>7181</th>\n",
       "      <td>IQ.SCI.MTHD</td>\n",
       "      <td>Methodology assessment of statistical capacity...</td>\n",
       "      <td>World Development Indicators</td>\n",
       "      <td>The methodology indicator measures a country’s...</td>\n",
       "      <td>b'World Bank, Bulletin Board on Statistical Ca...</td>\n",
       "      <td>Public Sector</td>\n",
       "      <td></td>\n",
       "    </tr>\n",
       "    <tr>\n",
       "      <th>7182</th>\n",
       "      <td>IQ.SCI.OVRL</td>\n",
       "      <td>Statistical Capacity score (Overall average)</td>\n",
       "      <td>World Development Indicators</td>\n",
       "      <td>The Statistical Capacity Indicator is a compos...</td>\n",
       "      <td>b'World Bank, Bulletin Board on Statistical Ca...</td>\n",
       "      <td>Public Sector</td>\n",
       "      <td></td>\n",
       "    </tr>\n",
       "    <tr>\n",
       "      <th>7183</th>\n",
       "      <td>IQ.SCI.PRDC</td>\n",
       "      <td>Periodicity and timeliness assessment of stati...</td>\n",
       "      <td>World Development Indicators</td>\n",
       "      <td>The periodicity and timeliness indicator asses...</td>\n",
       "      <td>b'World Bank, Bulletin Board on Statistical Ca...</td>\n",
       "      <td>Public Sector</td>\n",
       "      <td></td>\n",
       "    </tr>\n",
       "    <tr>\n",
       "      <th>7184</th>\n",
       "      <td>IQ.SCI.SRCE</td>\n",
       "      <td>Source data assessment of statistical capacity...</td>\n",
       "      <td>World Development Indicators</td>\n",
       "      <td>The source data indicator reflects whether a c...</td>\n",
       "      <td>b'World Bank, Bulletin Board on Statistical Ca...</td>\n",
       "      <td>Public Sector</td>\n",
       "      <td></td>\n",
       "    </tr>\n",
       "  </tbody>\n",
       "</table>\n",
       "</div>"
      ],
      "text/plain": [
       "               id                                               name  \\\n",
       "7181  IQ.SCI.MTHD  Methodology assessment of statistical capacity...   \n",
       "7182  IQ.SCI.OVRL       Statistical Capacity score (Overall average)   \n",
       "7183  IQ.SCI.PRDC  Periodicity and timeliness assessment of stati...   \n",
       "7184  IQ.SCI.SRCE  Source data assessment of statistical capacity...   \n",
       "\n",
       "                            source  \\\n",
       "7181  World Development Indicators   \n",
       "7182  World Development Indicators   \n",
       "7183  World Development Indicators   \n",
       "7184  World Development Indicators   \n",
       "\n",
       "                                             sourceNote  \\\n",
       "7181  The methodology indicator measures a country’s...   \n",
       "7182  The Statistical Capacity Indicator is a compos...   \n",
       "7183  The periodicity and timeliness indicator asses...   \n",
       "7184  The source data indicator reflects whether a c...   \n",
       "\n",
       "                                     sourceOrganization          topics unit  \n",
       "7181  b'World Bank, Bulletin Board on Statistical Ca...  Public Sector        \n",
       "7182  b'World Bank, Bulletin Board on Statistical Ca...  Public Sector        \n",
       "7183  b'World Bank, Bulletin Board on Statistical Ca...  Public Sector        \n",
       "7184  b'World Bank, Bulletin Board on Statistical Ca...  Public Sector        "
      ]
     },
     "execution_count": 72,
     "metadata": {},
     "output_type": "execute_result"
    }
   ],
   "source": [
    "# Sanity check : quick overview of the data\n",
    "matches.head(20)"
   ]
  },
  {
   "cell_type": "code",
   "execution_count": 69,
   "metadata": {},
   "outputs": [],
   "source": [
    "matches.to_csv('first_data_stat_ind.csv')"
   ]
  },
  {
   "cell_type": "code",
   "execution_count": null,
   "metadata": {
    "collapsed": true
   },
   "outputs": [],
   "source": []
  }
 ],
 "metadata": {
  "kernelspec": {
   "display_name": "Python 3",
   "language": "python",
   "name": "python3"
  }
 },
 "nbformat": 4,
 "nbformat_minor": 2
}
